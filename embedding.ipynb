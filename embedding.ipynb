{
 "cells": [
  {
   "cell_type": "code",
   "execution_count": 34,
   "metadata": {},
   "outputs": [],
   "source": [
    "sent = [\n",
    "    \"The glass of a milk\",\n",
    "    \"It is a nice to meet You\",\n",
    "    \"Hello my name is soham\",\n",
    "    \"Milk is a good and healthy drink\",\n",
    "    \"Game is a virtual thing \"\n",
    "]"
   ]
  },
  {
   "cell_type": "code",
   "execution_count": 35,
   "metadata": {},
   "outputs": [],
   "source": [
    "from tensorflow.keras.preprocessing.text import one_hot"
   ]
  },
  {
   "cell_type": "code",
   "execution_count": 36,
   "metadata": {},
   "outputs": [],
   "source": [
    "#define vocabulary size\n",
    "\n",
    "voc = 10000"
   ]
  },
  {
   "cell_type": "code",
   "execution_count": 39,
   "metadata": {},
   "outputs": [
    {
     "name": "stdout",
     "output_type": "stream",
     "text": [
      "[[218, 2685, 3382, 3566, 1839], [9354, 3670, 3566, 8749, 5540, 9107, 6307], [3935, 500, 9154, 3670, 6782], [1839, 3670, 3566, 4859, 3528, 5851, 8005], [9132, 3670, 3566, 5994, 3431]]\n"
     ]
    }
   ],
   "source": [
    "one_hot_rep = []\n",
    "for word in sent:\n",
    "    one_hot_rep.append(one_hot(word,voc))\n",
    "\n",
    "print(one_hot_rep)\n",
    "    "
   ]
  },
  {
   "cell_type": "code",
   "execution_count": 40,
   "metadata": {},
   "outputs": [],
   "source": [
    "from tensorflow.keras.layers import Embedding\n",
    "from tensorflow.keras.models import Sequential\n",
    "from tensorflow.keras.utils import pad_sequences"
   ]
  },
  {
   "cell_type": "code",
   "execution_count": 41,
   "metadata": {},
   "outputs": [],
   "source": [
    "import numpy as np"
   ]
  },
  {
   "cell_type": "code",
   "execution_count": 42,
   "metadata": {},
   "outputs": [
    {
     "name": "stdout",
     "output_type": "stream",
     "text": [
      "[[   0    0    0    0    0  218 2685 3382 3566 1839]\n",
      " [   0    0    0 9354 3670 3566 8749 5540 9107 6307]\n",
      " [   0    0    0    0    0 3935  500 9154 3670 6782]\n",
      " [   0    0    0 1839 3670 3566 4859 3528 5851 8005]\n",
      " [   0    0    0    0    0 9132 3670 3566 5994 3431]]\n"
     ]
    }
   ],
   "source": [
    "sent_length = 10\n",
    "embedded_docs = pad_sequences(one_hot_rep,padding='pre',maxlen=sent_length)\n",
    "print(embedded_docs)"
   ]
  },
  {
   "cell_type": "code",
   "execution_count": 43,
   "metadata": {},
   "outputs": [],
   "source": [
    "## feature represent\n",
    "\n",
    "dim = 10"
   ]
  },
  {
   "cell_type": "code",
   "execution_count": 53,
   "metadata": {},
   "outputs": [
    {
     "name": "stderr",
     "output_type": "stream",
     "text": [
      "c:\\Users\\sarka\\RNN_project\\venv\\Lib\\site-packages\\keras\\src\\layers\\core\\embedding.py:90: UserWarning: Argument `input_length` is deprecated. Just remove it.\n",
      "  warnings.warn(\n"
     ]
    }
   ],
   "source": [
    "model = Sequential()\n",
    "model.add(Embedding(voc,dim,input_length=sent_length))\n",
    "model.compile('adam','mse')"
   ]
  },
  {
   "cell_type": "code",
   "execution_count": 47,
   "metadata": {},
   "outputs": [
    {
     "data": {
      "text/html": [
       "<pre style=\"white-space:pre;overflow-x:auto;line-height:normal;font-family:Menlo,'DejaVu Sans Mono',consolas,'Courier New',monospace\"><span style=\"font-weight: bold\">Model: \"sequential_4\"</span>\n",
       "</pre>\n"
      ],
      "text/plain": [
       "\u001b[1mModel: \"sequential_4\"\u001b[0m\n"
      ]
     },
     "metadata": {},
     "output_type": "display_data"
    },
    {
     "data": {
      "text/html": [
       "<pre style=\"white-space:pre;overflow-x:auto;line-height:normal;font-family:Menlo,'DejaVu Sans Mono',consolas,'Courier New',monospace\">┏━━━━━━━━━━━━━━━━━━━━━━━━━━━━━━━━━┳━━━━━━━━━━━━━━━━━━━━━━━━┳━━━━━━━━━━━━━━━┓\n",
       "┃<span style=\"font-weight: bold\"> Layer (type)                    </span>┃<span style=\"font-weight: bold\"> Output Shape           </span>┃<span style=\"font-weight: bold\">       Param # </span>┃\n",
       "┡━━━━━━━━━━━━━━━━━━━━━━━━━━━━━━━━━╇━━━━━━━━━━━━━━━━━━━━━━━━╇━━━━━━━━━━━━━━━┩\n",
       "│ embedding_4 (<span style=\"color: #0087ff; text-decoration-color: #0087ff\">Embedding</span>)         │ ?                      │   <span style=\"color: #00af00; text-decoration-color: #00af00\">0</span> (unbuilt) │\n",
       "└─────────────────────────────────┴────────────────────────┴───────────────┘\n",
       "</pre>\n"
      ],
      "text/plain": [
       "┏━━━━━━━━━━━━━━━━━━━━━━━━━━━━━━━━━┳━━━━━━━━━━━━━━━━━━━━━━━━┳━━━━━━━━━━━━━━━┓\n",
       "┃\u001b[1m \u001b[0m\u001b[1mLayer (type)                   \u001b[0m\u001b[1m \u001b[0m┃\u001b[1m \u001b[0m\u001b[1mOutput Shape          \u001b[0m\u001b[1m \u001b[0m┃\u001b[1m \u001b[0m\u001b[1m      Param #\u001b[0m\u001b[1m \u001b[0m┃\n",
       "┡━━━━━━━━━━━━━━━━━━━━━━━━━━━━━━━━━╇━━━━━━━━━━━━━━━━━━━━━━━━╇━━━━━━━━━━━━━━━┩\n",
       "│ embedding_4 (\u001b[38;5;33mEmbedding\u001b[0m)         │ ?                      │   \u001b[38;5;34m0\u001b[0m (unbuilt) │\n",
       "└─────────────────────────────────┴────────────────────────┴───────────────┘\n"
      ]
     },
     "metadata": {},
     "output_type": "display_data"
    },
    {
     "data": {
      "text/html": [
       "<pre style=\"white-space:pre;overflow-x:auto;line-height:normal;font-family:Menlo,'DejaVu Sans Mono',consolas,'Courier New',monospace\"><span style=\"font-weight: bold\"> Total params: </span><span style=\"color: #00af00; text-decoration-color: #00af00\">0</span> (0.00 B)\n",
       "</pre>\n"
      ],
      "text/plain": [
       "\u001b[1m Total params: \u001b[0m\u001b[38;5;34m0\u001b[0m (0.00 B)\n"
      ]
     },
     "metadata": {},
     "output_type": "display_data"
    },
    {
     "data": {
      "text/html": [
       "<pre style=\"white-space:pre;overflow-x:auto;line-height:normal;font-family:Menlo,'DejaVu Sans Mono',consolas,'Courier New',monospace\"><span style=\"font-weight: bold\"> Trainable params: </span><span style=\"color: #00af00; text-decoration-color: #00af00\">0</span> (0.00 B)\n",
       "</pre>\n"
      ],
      "text/plain": [
       "\u001b[1m Trainable params: \u001b[0m\u001b[38;5;34m0\u001b[0m (0.00 B)\n"
      ]
     },
     "metadata": {},
     "output_type": "display_data"
    },
    {
     "data": {
      "text/html": [
       "<pre style=\"white-space:pre;overflow-x:auto;line-height:normal;font-family:Menlo,'DejaVu Sans Mono',consolas,'Courier New',monospace\"><span style=\"font-weight: bold\"> Non-trainable params: </span><span style=\"color: #00af00; text-decoration-color: #00af00\">0</span> (0.00 B)\n",
       "</pre>\n"
      ],
      "text/plain": [
       "\u001b[1m Non-trainable params: \u001b[0m\u001b[38;5;34m0\u001b[0m (0.00 B)\n"
      ]
     },
     "metadata": {},
     "output_type": "display_data"
    }
   ],
   "source": [
    "model.summary()"
   ]
  },
  {
   "cell_type": "code",
   "execution_count": 33,
   "metadata": {},
   "outputs": [
    {
     "name": "stdout",
     "output_type": "stream",
     "text": [
      "\u001b[1m1/1\u001b[0m \u001b[32m━━━━━━━━━━━━━━━━━━━━\u001b[0m\u001b[37m\u001b[0m \u001b[1m0s\u001b[0m 64ms/step\n"
     ]
    },
    {
     "data": {
      "text/plain": [
       "array([[[ 0.03783363,  0.03045319,  0.00665536,  0.01107808,\n",
       "          0.03960652, -0.04275988,  0.04370568,  0.04405436,\n",
       "         -0.04404841,  0.02941949],\n",
       "        [ 0.03783363,  0.03045319,  0.00665536,  0.01107808,\n",
       "          0.03960652, -0.04275988,  0.04370568,  0.04405436,\n",
       "         -0.04404841,  0.02941949],\n",
       "        [ 0.03783363,  0.03045319,  0.00665536,  0.01107808,\n",
       "          0.03960652, -0.04275988,  0.04370568,  0.04405436,\n",
       "         -0.04404841,  0.02941949],\n",
       "        [ 0.03783363,  0.03045319,  0.00665536,  0.01107808,\n",
       "          0.03960652, -0.04275988,  0.04370568,  0.04405436,\n",
       "         -0.04404841,  0.02941949],\n",
       "        [ 0.03783363,  0.03045319,  0.00665536,  0.01107808,\n",
       "          0.03960652, -0.04275988,  0.04370568,  0.04405436,\n",
       "         -0.04404841,  0.02941949],\n",
       "        [-0.00182765,  0.02917923, -0.02816533, -0.02869819,\n",
       "          0.04998854, -0.03662684, -0.02400193,  0.00084579,\n",
       "          0.00878371, -0.01417162],\n",
       "        [-0.01416482, -0.02103262,  0.0026447 ,  0.04657818,\n",
       "         -0.00548958, -0.02331656,  0.03579279,  0.02584796,\n",
       "          0.02207938, -0.00875194],\n",
       "        [ 0.00339655, -0.02589089, -0.00347797, -0.03860146,\n",
       "          0.03959651,  0.03477002,  0.03897107,  0.02463958,\n",
       "          0.04626333, -0.00124741],\n",
       "        [-0.02659324, -0.03086317,  0.04476514, -0.03270465,\n",
       "         -0.00787278, -0.02416544,  0.03867154,  0.03711477,\n",
       "          0.01193821, -0.02861656],\n",
       "        [ 0.03544618, -0.03219493,  0.00884774,  0.03539846,\n",
       "         -0.03946123, -0.02339037,  0.00644815, -0.03906145,\n",
       "          0.03419076,  0.04848048]],\n",
       "\n",
       "       [[ 0.03783363,  0.03045319,  0.00665536,  0.01107808,\n",
       "          0.03960652, -0.04275988,  0.04370568,  0.04405436,\n",
       "         -0.04404841,  0.02941949],\n",
       "        [ 0.03783363,  0.03045319,  0.00665536,  0.01107808,\n",
       "          0.03960652, -0.04275988,  0.04370568,  0.04405436,\n",
       "         -0.04404841,  0.02941949],\n",
       "        [ 0.03783363,  0.03045319,  0.00665536,  0.01107808,\n",
       "          0.03960652, -0.04275988,  0.04370568,  0.04405436,\n",
       "         -0.04404841,  0.02941949],\n",
       "        [-0.02340827, -0.02724245, -0.04785857, -0.01712078,\n",
       "         -0.02091464, -0.00961993, -0.00543277, -0.01864583,\n",
       "          0.04222367, -0.0263203 ],\n",
       "        [ 0.04827381,  0.03199113, -0.04510771, -0.02989918,\n",
       "         -0.00012429, -0.0481117 ,  0.02324349, -0.01111161,\n",
       "         -0.01342093,  0.04465029],\n",
       "        [-0.02659324, -0.03086317,  0.04476514, -0.03270465,\n",
       "         -0.00787278, -0.02416544,  0.03867154,  0.03711477,\n",
       "          0.01193821, -0.02861656],\n",
       "        [ 0.04238701,  0.04020175,  0.03567071, -0.03734391,\n",
       "         -0.03653543,  0.0427972 , -0.03634684, -0.04148255,\n",
       "         -0.04778748, -0.02219168],\n",
       "        [-0.01617711, -0.01234497, -0.00162259,  0.04128032,\n",
       "         -0.02176789, -0.00114352, -0.01528138, -0.00496763,\n",
       "          0.03979672, -0.02323041],\n",
       "        [ 0.01209857, -0.02090091,  0.01339552, -0.04777749,\n",
       "         -0.04575   ,  0.00511793, -0.01719198, -0.03819297,\n",
       "          0.03733296,  0.01923985],\n",
       "        [-0.02906655,  0.01595611, -0.00932821,  0.02771081,\n",
       "         -0.00397331,  0.00068848, -0.0061944 , -0.00428288,\n",
       "          0.01863365, -0.03471913]],\n",
       "\n",
       "       [[ 0.03783363,  0.03045319,  0.00665536,  0.01107808,\n",
       "          0.03960652, -0.04275988,  0.04370568,  0.04405436,\n",
       "         -0.04404841,  0.02941949],\n",
       "        [ 0.03783363,  0.03045319,  0.00665536,  0.01107808,\n",
       "          0.03960652, -0.04275988,  0.04370568,  0.04405436,\n",
       "         -0.04404841,  0.02941949],\n",
       "        [ 0.03783363,  0.03045319,  0.00665536,  0.01107808,\n",
       "          0.03960652, -0.04275988,  0.04370568,  0.04405436,\n",
       "         -0.04404841,  0.02941949],\n",
       "        [ 0.03783363,  0.03045319,  0.00665536,  0.01107808,\n",
       "          0.03960652, -0.04275988,  0.04370568,  0.04405436,\n",
       "         -0.04404841,  0.02941949],\n",
       "        [ 0.03783363,  0.03045319,  0.00665536,  0.01107808,\n",
       "          0.03960652, -0.04275988,  0.04370568,  0.04405436,\n",
       "         -0.04404841,  0.02941949],\n",
       "        [ 0.02353561, -0.02767216,  0.02968432,  0.01088421,\n",
       "         -0.04853981, -0.00590683, -0.01015919, -0.03451378,\n",
       "         -0.03589074,  0.03280989],\n",
       "        [ 0.04635519, -0.02269671, -0.04800086,  0.03080789,\n",
       "          0.03799485,  0.0377828 ,  0.02945301,  0.0099104 ,\n",
       "         -0.00100261, -0.03762369],\n",
       "        [ 0.04149297,  0.02605256,  0.00573021,  0.00124172,\n",
       "          0.04255744,  0.04520677, -0.02480135,  0.04046451,\n",
       "          0.01198047, -0.04632432],\n",
       "        [ 0.04827381,  0.03199113, -0.04510771, -0.02989918,\n",
       "         -0.00012429, -0.0481117 ,  0.02324349, -0.01111161,\n",
       "         -0.01342093,  0.04465029],\n",
       "        [ 0.01296178, -0.0179457 , -0.03374775, -0.01058913,\n",
       "         -0.04976776, -0.02841683, -0.01670223, -0.00838365,\n",
       "         -0.04696022,  0.00073233]],\n",
       "\n",
       "       [[ 0.03783363,  0.03045319,  0.00665536,  0.01107808,\n",
       "          0.03960652, -0.04275988,  0.04370568,  0.04405436,\n",
       "         -0.04404841,  0.02941949],\n",
       "        [ 0.03783363,  0.03045319,  0.00665536,  0.01107808,\n",
       "          0.03960652, -0.04275988,  0.04370568,  0.04405436,\n",
       "         -0.04404841,  0.02941949],\n",
       "        [ 0.03783363,  0.03045319,  0.00665536,  0.01107808,\n",
       "          0.03960652, -0.04275988,  0.04370568,  0.04405436,\n",
       "         -0.04404841,  0.02941949],\n",
       "        [ 0.03544618, -0.03219493,  0.00884774,  0.03539846,\n",
       "         -0.03946123, -0.02339037,  0.00644815, -0.03906145,\n",
       "          0.03419076,  0.04848048],\n",
       "        [ 0.04827381,  0.03199113, -0.04510771, -0.02989918,\n",
       "         -0.00012429, -0.0481117 ,  0.02324349, -0.01111161,\n",
       "         -0.01342093,  0.04465029],\n",
       "        [-0.02659324, -0.03086317,  0.04476514, -0.03270465,\n",
       "         -0.00787278, -0.02416544,  0.03867154,  0.03711477,\n",
       "          0.01193821, -0.02861656],\n",
       "        [ 0.00576518,  0.03041584,  0.00418208,  0.03427735,\n",
       "          0.02621938, -0.01291134,  0.02259835,  0.00604508,\n",
       "         -0.01260127,  0.00169432],\n",
       "        [ 0.00016041,  0.0463537 , -0.00916493, -0.02796389,\n",
       "          0.01526709,  0.01497881,  0.01314959, -0.01772613,\n",
       "          0.04057555, -0.00638496],\n",
       "        [ 0.00277011,  0.03018526, -0.01735038, -0.00056725,\n",
       "         -0.03838284, -0.04840896, -0.02688226,  0.00188382,\n",
       "         -0.00812173,  0.02156177],\n",
       "        [ 0.02141596,  0.02010273, -0.00329465,  0.04090828,\n",
       "          0.01348471,  0.01762874, -0.00935411, -0.0331141 ,\n",
       "          0.02519678, -0.02990537]],\n",
       "\n",
       "       [[ 0.03783363,  0.03045319,  0.00665536,  0.01107808,\n",
       "          0.03960652, -0.04275988,  0.04370568,  0.04405436,\n",
       "         -0.04404841,  0.02941949],\n",
       "        [ 0.03783363,  0.03045319,  0.00665536,  0.01107808,\n",
       "          0.03960652, -0.04275988,  0.04370568,  0.04405436,\n",
       "         -0.04404841,  0.02941949],\n",
       "        [ 0.03783363,  0.03045319,  0.00665536,  0.01107808,\n",
       "          0.03960652, -0.04275988,  0.04370568,  0.04405436,\n",
       "         -0.04404841,  0.02941949],\n",
       "        [ 0.03783363,  0.03045319,  0.00665536,  0.01107808,\n",
       "          0.03960652, -0.04275988,  0.04370568,  0.04405436,\n",
       "         -0.04404841,  0.02941949],\n",
       "        [ 0.03783363,  0.03045319,  0.00665536,  0.01107808,\n",
       "          0.03960652, -0.04275988,  0.04370568,  0.04405436,\n",
       "         -0.04404841,  0.02941949],\n",
       "        [-0.03626667, -0.00506663,  0.01428913,  0.04051039,\n",
       "         -0.02423266, -0.03174478,  0.02380032, -0.03439466,\n",
       "         -0.04500841, -0.01743382],\n",
       "        [ 0.04827381,  0.03199113, -0.04510771, -0.02989918,\n",
       "         -0.00012429, -0.0481117 ,  0.02324349, -0.01111161,\n",
       "         -0.01342093,  0.04465029],\n",
       "        [-0.02659324, -0.03086317,  0.04476514, -0.03270465,\n",
       "         -0.00787278, -0.02416544,  0.03867154,  0.03711477,\n",
       "          0.01193821, -0.02861656],\n",
       "        [ 0.04880324, -0.02947749,  0.01133972,  0.02751451,\n",
       "          0.01603347, -0.01934868,  0.0420518 ,  0.0200525 ,\n",
       "          0.02029855,  0.01113917],\n",
       "        [-0.03269612, -0.0001443 , -0.03368292, -0.00702041,\n",
       "         -0.04054207,  0.02016458,  0.0025733 , -0.00105231,\n",
       "          0.00701379,  0.01530221]]], dtype=float32)"
      ]
     },
     "execution_count": 33,
     "metadata": {},
     "output_type": "execute_result"
    }
   ],
   "source": [
    "model.predict(embedded_docs)"
   ]
  },
  {
   "cell_type": "code",
   "execution_count": 56,
   "metadata": {},
   "outputs": [
    {
     "ename": "ValueError",
     "evalue": "Attr 'Toutput_types' of 'OptionalFromValue' Op passed list of length 0 less than minimum 1.",
     "output_type": "error",
     "traceback": [
      "\u001b[1;31m---------------------------------------------------------------------------\u001b[0m",
      "\u001b[1;31mValueError\u001b[0m                                Traceback (most recent call last)",
      "Cell \u001b[1;32mIn[56], line 1\u001b[0m\n\u001b[1;32m----> 1\u001b[0m \u001b[43mmodel\u001b[49m\u001b[38;5;241;43m.\u001b[39;49m\u001b[43mfit\u001b[49m\u001b[43m(\u001b[49m\n\u001b[0;32m      2\u001b[0m \u001b[43m    \u001b[49m\u001b[43membedded_docs\u001b[49m\n\u001b[0;32m      3\u001b[0m \u001b[43m)\u001b[49m\n",
      "File \u001b[1;32mc:\\Users\\sarka\\RNN_project\\venv\\Lib\\site-packages\\keras\\src\\utils\\traceback_utils.py:122\u001b[0m, in \u001b[0;36mfilter_traceback.<locals>.error_handler\u001b[1;34m(*args, **kwargs)\u001b[0m\n\u001b[0;32m    119\u001b[0m     filtered_tb \u001b[38;5;241m=\u001b[39m _process_traceback_frames(e\u001b[38;5;241m.\u001b[39m__traceback__)\n\u001b[0;32m    120\u001b[0m     \u001b[38;5;66;03m# To get the full stack trace, call:\u001b[39;00m\n\u001b[0;32m    121\u001b[0m     \u001b[38;5;66;03m# `keras.config.disable_traceback_filtering()`\u001b[39;00m\n\u001b[1;32m--> 122\u001b[0m     \u001b[38;5;28;01mraise\u001b[39;00m e\u001b[38;5;241m.\u001b[39mwith_traceback(filtered_tb) \u001b[38;5;28;01mfrom\u001b[39;00m \u001b[38;5;28;01mNone\u001b[39;00m\n\u001b[0;32m    123\u001b[0m \u001b[38;5;28;01mfinally\u001b[39;00m:\n\u001b[0;32m    124\u001b[0m     \u001b[38;5;28;01mdel\u001b[39;00m filtered_tb\n",
      "File \u001b[1;32mc:\\Users\\sarka\\RNN_project\\venv\\Lib\\site-packages\\keras\\src\\backend\\tensorflow\\trainer.py:131\u001b[0m, in \u001b[0;36mTensorFlowTrainer._make_function.<locals>.multi_step_on_iterator\u001b[1;34m(iterator)\u001b[0m\n\u001b[0;32m    128\u001b[0m \u001b[38;5;129m@tf\u001b[39m\u001b[38;5;241m.\u001b[39mautograph\u001b[38;5;241m.\u001b[39mexperimental\u001b[38;5;241m.\u001b[39mdo_not_convert\n\u001b[0;32m    129\u001b[0m \u001b[38;5;28;01mdef\u001b[39;00m \u001b[38;5;21mmulti_step_on_iterator\u001b[39m(iterator):\n\u001b[0;32m    130\u001b[0m     \u001b[38;5;28;01mif\u001b[39;00m \u001b[38;5;28mself\u001b[39m\u001b[38;5;241m.\u001b[39msteps_per_execution \u001b[38;5;241m==\u001b[39m \u001b[38;5;241m1\u001b[39m:\n\u001b[1;32m--> 131\u001b[0m         \u001b[38;5;28;01mreturn\u001b[39;00m \u001b[43mtf\u001b[49m\u001b[38;5;241;43m.\u001b[39;49m\u001b[43mexperimental\u001b[49m\u001b[38;5;241;43m.\u001b[39;49m\u001b[43mOptional\u001b[49m\u001b[38;5;241;43m.\u001b[39;49m\u001b[43mfrom_value\u001b[49m\u001b[43m(\u001b[49m\n\u001b[0;32m    132\u001b[0m \u001b[43m            \u001b[49m\u001b[43mone_step_on_data\u001b[49m\u001b[43m(\u001b[49m\u001b[43miterator\u001b[49m\u001b[38;5;241;43m.\u001b[39;49m\u001b[43mget_next\u001b[49m\u001b[43m(\u001b[49m\u001b[43m)\u001b[49m\u001b[43m)\u001b[49m\n\u001b[0;32m    133\u001b[0m \u001b[43m        \u001b[49m\u001b[43m)\u001b[49m\n\u001b[0;32m    135\u001b[0m     \u001b[38;5;66;03m# the spec is set lazily during the tracing of `tf.while_loop`\u001b[39;00m\n\u001b[0;32m    136\u001b[0m     empty_outputs \u001b[38;5;241m=\u001b[39m tf\u001b[38;5;241m.\u001b[39mexperimental\u001b[38;5;241m.\u001b[39mOptional\u001b[38;5;241m.\u001b[39mempty(\u001b[38;5;28;01mNone\u001b[39;00m)\n",
      "\u001b[1;31mValueError\u001b[0m: Attr 'Toutput_types' of 'OptionalFromValue' Op passed list of length 0 less than minimum 1."
     ]
    }
   ],
   "source": [
    "model.fit(\n",
    "    embedded_docs\n",
    ")"
   ]
  },
  {
   "cell_type": "code",
   "execution_count": 51,
   "metadata": {},
   "outputs": [
    {
     "data": {
      "text/plain": [
       "array([[   0,    0,    0,    0,    0,  218, 2685, 3382, 3566, 1839],\n",
       "       [   0,    0,    0, 9354, 3670, 3566, 8749, 5540, 9107, 6307],\n",
       "       [   0,    0,    0,    0,    0, 3935,  500, 9154, 3670, 6782],\n",
       "       [   0,    0,    0, 1839, 3670, 3566, 4859, 3528, 5851, 8005],\n",
       "       [   0,    0,    0,    0,    0, 9132, 3670, 3566, 5994, 3431]],\n",
       "      dtype=int32)"
      ]
     },
     "execution_count": 51,
     "metadata": {},
     "output_type": "execute_result"
    }
   ],
   "source": [
    "embedded_docs"
   ]
  },
  {
   "cell_type": "code",
   "execution_count": null,
   "metadata": {},
   "outputs": [],
   "source": []
  }
 ],
 "metadata": {
  "kernelspec": {
   "display_name": "venv",
   "language": "python",
   "name": "python3"
  },
  "language_info": {
   "codemirror_mode": {
    "name": "ipython",
    "version": 3
   },
   "file_extension": ".py",
   "mimetype": "text/x-python",
   "name": "python",
   "nbconvert_exporter": "python",
   "pygments_lexer": "ipython3",
   "version": "3.11.0"
  }
 },
 "nbformat": 4,
 "nbformat_minor": 2
}
